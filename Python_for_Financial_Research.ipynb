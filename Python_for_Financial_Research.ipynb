{
 "cells": [
  {
   "cell_type": "markdown",
   "metadata": {
    "slideshow": {
     "slide_type": "-"
    }
   },
   "source": [
    "<h1 align=\"center\">An Introduction to Python for Economic Data Analysis   "
   ]
  },
  {
   "cell_type": "markdown",
   "metadata": {
    "slideshow": {
     "slide_type": "subslide"
    }
   },
   "source": [
    "The purpose of this notebook is to provide an introduction to some of the capabilities of Python. This overview will include  how to download economics data from Quandl, combine different data sources, then analyze the data in pandas, and finally provide an example of a simple linear regression.   \n",
    "\n",
    "For the purpose of this demonstration, we'll do an analysis similar to the Phillip's Curve. The Phillip's curve hypothesized that unemployment rate and inflation had an inverse, stable relationship. "
   ]
  },
  {
   "cell_type": "markdown",
   "metadata": {
    "slideshow": {
     "slide_type": "slide"
    }
   },
   "source": [
    "### Contents  \n",
    "[Import Basic Libraries](#libs)  \n",
    "[Fetch Inflation Data from Quandl](#CPI)  \n",
    "[Fetch Unemployment Data from Quandl](#Unemp)  \n",
    "[Combine Datasets](#concat)  \n",
    "[Analyze Datasets](#analyze)  \n",
    "[Create Model Features](#features)  \n",
    "[Using Stats Models for Ordinary Least Squares Regression](#stats)  \n",
    "[Using Sci-Kit Learn for Ordinary Least Squares Regression](#scikit)  \n",
    "[Conclusion](#conclusion)  "
   ]
  },
  {
   "cell_type": "markdown",
   "metadata": {
    "slideshow": {
     "slide_type": "slide"
    }
   },
   "source": [
    "<a id='libs'></a>\n",
    "### Import Basic Libraries"
   ]
  },
  {
   "cell_type": "markdown",
   "metadata": {
    "slideshow": {
     "slide_type": "subslide"
    }
   },
   "source": [
    "#### Why so many libraries?  \n",
    "  \n",
    "The most powerful feature of Python is the community. As an open source language, anyone can create a library for you to download and use. These libraries can be installed using the command \"pip install [library name]\" on the command line.\n",
    "\n",
    "#### Why did we choose these libraries?  \n",
    "- Numpy: Numpy (NUM-pie) is one of the most rudimentary quantitative libraries in Python. \n",
    "- Pandas: Pandas is Python's most powerful library for data analysis. Pandas allows users to import, filter, analyze, and visualize data. Pandas uses a feature called \"dataframes\" to process data at very quick speeds in memory. Pandas was created to replicate many of R's functions.\n",
    "- Quandl: This is the API Quandl created for downloading data into Pandas dataframes.\n",
    "- Warnings: Allows for disabling of iPython Notebook warnings\n",
    "- qGrid: Uses Javascript to allow interactive tables to be imbeded into the iPython Notebook. For more information on the qGrid project, visit: http://nbviewer.ipython.org/github/quantopian/qgrid/blob/master/qgrid_demo.ipynb"
   ]
  },
  {
   "cell_type": "code",
   "execution_count": 4,
   "metadata": {
    "collapsed": false,
    "slideshow": {
     "slide_type": "subslide"
    }
   },
   "outputs": [],
   "source": [
    "%matplotlib inline\n",
    "import numpy as np\n",
    "import pandas as pd\n",
    "import Quandl as qd\n",
    "import warnings\n",
    "warnings.filterwarnings('ignore')\n",
    "\n",
    "\n",
    "#Nick's Quandl Auth token\n",
    "auth = '9zjPBpsaLGqS-KPGzvyn'"
   ]
  },
  {
   "cell_type": "code",
   "execution_count": 5,
   "metadata": {
    "collapsed": false,
    "slideshow": {
     "slide_type": "subslide"
    }
   },
   "outputs": [],
   "source": [
    "#Import qGrid to allow for interactive tables\n",
    "import qgrid as q\n",
    "q.nbinstall(overwrite=True)  # copies javascript dependencies to your /nbextensions folder \n",
    "q.set_defaults(remote_js=True, precision=4)\n"
   ]
  },
  {
   "cell_type": "markdown",
   "metadata": {},
   "source": [
    "<a id='CPI'></a>  \n",
    "  \n",
    "### Fetch Inflation Data From Quandl\n",
    "\n",
    "\n"
   ]
  },
  {
   "cell_type": "markdown",
   "metadata": {},
   "source": [
    "#### What is Quandl and why are we pulling data from it?\n",
    "\n",
    "Quandl is an online data warehouse which has thousands of public datasets. Quandl's API is set up to pull data directly into a Pandas dataframe, and it automatically sets the date as the index.  For more info on using Quandl with Python, visit: https://www.quandl.com/help/python"
   ]
  },
  {
   "cell_type": "code",
   "execution_count": 6,
   "metadata": {
    "collapsed": false,
    "scrolled": false
   },
   "outputs": [
    {
     "data": {
      "text/html": [
       "<div>\n",
       "<table border=\"1\" class=\"dataframe\">\n",
       "  <thead>\n",
       "    <tr style=\"text-align: right;\">\n",
       "      <th></th>\n",
       "      <th>CPI-U: All Items (SA; 1982-84=100) (Bureau of Labor Statistics)</th>\n",
       "      <th>CPI-U: All Items (SA; 1982-84=100) % Change - Period to Period (Bureau of Labor Statistics)</th>\n",
       "      <th>CPI-U: All Items (NSA; 1982-84=100) % Change - Year to Year (Bureau of Labor Statistics)</th>\n",
       "      <th>CPI-U: All Items Less Food and Energy (SA; 1982-84=100) (Bureau of Labor Statistics)</th>\n",
       "      <th>CPI-U: All Items Less Food and Energy (SA; 1982-84=100) % Change - Period to Period (Bureau of Labor Statistics)</th>\n",
       "      <th>CPI-U: All Items Less Food and Energy (NSA; 1982-84=100) % Change - Year to Year (Bureau of Labor Statistics)</th>\n",
       "      <th>Original FRB Cleveland Median CPI (SAAR; %chg) (Federal Reserve Bank of Cleveland)</th>\n",
       "      <th>Original FRB Cleveland Median CPI (SA; %chg) (Federal Reserve Bank of Cleveland)</th>\n",
       "      <th>Original FRB Cleveland Median CPI (SA; 12 Month %chg) (Federal Reserve Bank of Cleveland)</th>\n",
       "      <th>PPI: Finished Goods (SA; 1982=100) (Bureau of Labor Statistics)</th>\n",
       "      <th>...</th>\n",
       "      <th>Original 16% trimmed mean (12 month %chg) (Federal Reserve Bank of Cleveland)</th>\n",
       "      <th>Original 16% trimmed mean (SAAR; %chg) ()</th>\n",
       "      <th>Revised FRB Cleveland Median CPI (SA; Dec-82=1) (Federal Reserve Bank of Cleveland)</th>\n",
       "      <th>Revised FRB Cleveland Median CPI (SA month-to-month %chg) (Federal Reserve Bank of Cleveland)</th>\n",
       "      <th>RevisedFRB Cleveland Median CPI (SA; 12 Month %chg) (Federal Reserve Bank of Cleveland)</th>\n",
       "      <th>RevisedFRB Cleveland Median CPI (SAAR; %chg) ()</th>\n",
       "      <th>Revised 16% trimmed mean (SA; Dec-82=1) (Federal Reserve Bank of Cleveland)</th>\n",
       "      <th>Revised 16% trimmed mean (SA month-to-month %chg) (Federal Reserve Bank of Cleveland)</th>\n",
       "      <th>Revised 16% trimmed mean (12 month %chg) (Federal Reserve Bank of Cleveland)</th>\n",
       "      <th>Revised 16% trimmed mean (SAAR; %chg)</th>\n",
       "    </tr>\n",
       "    <tr>\n",
       "      <th>Date</th>\n",
       "      <th></th>\n",
       "      <th></th>\n",
       "      <th></th>\n",
       "      <th></th>\n",
       "      <th></th>\n",
       "      <th></th>\n",
       "      <th></th>\n",
       "      <th></th>\n",
       "      <th></th>\n",
       "      <th></th>\n",
       "      <th></th>\n",
       "      <th></th>\n",
       "      <th></th>\n",
       "      <th></th>\n",
       "      <th></th>\n",
       "      <th></th>\n",
       "      <th></th>\n",
       "      <th></th>\n",
       "      <th></th>\n",
       "      <th></th>\n",
       "      <th></th>\n",
       "    </tr>\n",
       "  </thead>\n",
       "  <tbody>\n",
       "    <tr>\n",
       "      <th>2010-12-31</th>\n",
       "      <td>220.437</td>\n",
       "      <td>0.406752</td>\n",
       "      <td>1.495723</td>\n",
       "      <td>222.288</td>\n",
       "      <td>0.081042</td>\n",
       "      <td>0.804454</td>\n",
       "      <td>NaN</td>\n",
       "      <td>NaN</td>\n",
       "      <td>NaN</td>\n",
       "      <td>183.9</td>\n",
       "      <td>...</td>\n",
       "      <td>NaN</td>\n",
       "      <td>NaN</td>\n",
       "      <td>2.324277</td>\n",
       "      <td>0.112541</td>\n",
       "      <td>0.730136</td>\n",
       "      <td>1.358886</td>\n",
       "      <td>2.210981</td>\n",
       "      <td>0.122552</td>\n",
       "      <td>0.838698</td>\n",
       "      <td>1.480579</td>\n",
       "    </tr>\n",
       "    <tr>\n",
       "      <th>2011-12-31</th>\n",
       "      <td>227.093</td>\n",
       "      <td>-0.018931</td>\n",
       "      <td>2.962419</td>\n",
       "      <td>227.265</td>\n",
       "      <td>0.156008</td>\n",
       "      <td>2.229536</td>\n",
       "      <td>NaN</td>\n",
       "      <td>NaN</td>\n",
       "      <td>NaN</td>\n",
       "      <td>192.5</td>\n",
       "      <td>...</td>\n",
       "      <td>NaN</td>\n",
       "      <td>NaN</td>\n",
       "      <td>2.374239</td>\n",
       "      <td>0.192794</td>\n",
       "      <td>2.149584</td>\n",
       "      <td>2.338215</td>\n",
       "      <td>2.266577</td>\n",
       "      <td>0.120418</td>\n",
       "      <td>2.514502</td>\n",
       "      <td>1.454622</td>\n",
       "    </tr>\n",
       "    <tr>\n",
       "      <th>2012-12-31</th>\n",
       "      <td>231.099</td>\n",
       "      <td>-0.039362</td>\n",
       "      <td>1.741022</td>\n",
       "      <td>231.562</td>\n",
       "      <td>0.102453</td>\n",
       "      <td>1.893358</td>\n",
       "      <td>NaN</td>\n",
       "      <td>NaN</td>\n",
       "      <td>NaN</td>\n",
       "      <td>195.2</td>\n",
       "      <td>...</td>\n",
       "      <td>NaN</td>\n",
       "      <td>NaN</td>\n",
       "      <td>2.424357</td>\n",
       "      <td>0.133728</td>\n",
       "      <td>2.110927</td>\n",
       "      <td>1.616596</td>\n",
       "      <td>2.309504</td>\n",
       "      <td>0.094993</td>\n",
       "      <td>1.893915</td>\n",
       "      <td>1.145889</td>\n",
       "    </tr>\n",
       "    <tr>\n",
       "      <th>2013-12-31</th>\n",
       "      <td>234.594</td>\n",
       "      <td>0.239710</td>\n",
       "      <td>1.501736</td>\n",
       "      <td>235.542</td>\n",
       "      <td>0.101146</td>\n",
       "      <td>1.717071</td>\n",
       "      <td>NaN</td>\n",
       "      <td>NaN</td>\n",
       "      <td>NaN</td>\n",
       "      <td>198.0</td>\n",
       "      <td>...</td>\n",
       "      <td>NaN</td>\n",
       "      <td>NaN</td>\n",
       "      <td>2.474281</td>\n",
       "      <td>0.196737</td>\n",
       "      <td>2.059234</td>\n",
       "      <td>2.386552</td>\n",
       "      <td>2.347615</td>\n",
       "      <td>0.162431</td>\n",
       "      <td>1.650211</td>\n",
       "      <td>1.966678</td>\n",
       "    </tr>\n",
       "    <tr>\n",
       "      <th>2014-12-31</th>\n",
       "      <td>236.149</td>\n",
       "      <td>-0.372524</td>\n",
       "      <td>0.756493</td>\n",
       "      <td>239.339</td>\n",
       "      <td>0.002925</td>\n",
       "      <td>1.606383</td>\n",
       "      <td>NaN</td>\n",
       "      <td>NaN</td>\n",
       "      <td>NaN</td>\n",
       "      <td>196.7</td>\n",
       "      <td>...</td>\n",
       "      <td>NaN</td>\n",
       "      <td>NaN</td>\n",
       "      <td>2.529360</td>\n",
       "      <td>0.172587</td>\n",
       "      <td>2.226089</td>\n",
       "      <td>2.090811</td>\n",
       "      <td>2.389326</td>\n",
       "      <td>0.096095</td>\n",
       "      <td>1.776733</td>\n",
       "      <td>1.159257</td>\n",
       "    </tr>\n",
       "  </tbody>\n",
       "</table>\n",
       "<p>5 rows × 36 columns</p>\n",
       "</div>"
      ],
      "text/plain": [
       "            CPI-U: All Items (SA; 1982-84=100) (Bureau of Labor Statistics)  \\\n",
       "Date                                                                          \n",
       "2010-12-31                                            220.437                 \n",
       "2011-12-31                                            227.093                 \n",
       "2012-12-31                                            231.099                 \n",
       "2013-12-31                                            234.594                 \n",
       "2014-12-31                                            236.149                 \n",
       "\n",
       "            CPI-U: All Items (SA; 1982-84=100) % Change - Period to Period (Bureau of Labor Statistics)  \\\n",
       "Date                                                                                                      \n",
       "2010-12-31                                           0.406752                                             \n",
       "2011-12-31                                          -0.018931                                             \n",
       "2012-12-31                                          -0.039362                                             \n",
       "2013-12-31                                           0.239710                                             \n",
       "2014-12-31                                          -0.372524                                             \n",
       "\n",
       "            CPI-U: All Items (NSA; 1982-84=100) % Change - Year to Year (Bureau of Labor Statistics)  \\\n",
       "Date                                                                                                   \n",
       "2010-12-31                                           1.495723                                          \n",
       "2011-12-31                                           2.962419                                          \n",
       "2012-12-31                                           1.741022                                          \n",
       "2013-12-31                                           1.501736                                          \n",
       "2014-12-31                                           0.756493                                          \n",
       "\n",
       "            CPI-U: All Items Less Food and Energy (SA; 1982-84=100) (Bureau of Labor Statistics)  \\\n",
       "Date                                                                                               \n",
       "2010-12-31                                            222.288                                      \n",
       "2011-12-31                                            227.265                                      \n",
       "2012-12-31                                            231.562                                      \n",
       "2013-12-31                                            235.542                                      \n",
       "2014-12-31                                            239.339                                      \n",
       "\n",
       "            CPI-U: All Items Less Food and Energy (SA; 1982-84=100) % Change - Period to Period (Bureau of Labor Statistics)  \\\n",
       "Date                                                                                                                           \n",
       "2010-12-31                                           0.081042                                                                  \n",
       "2011-12-31                                           0.156008                                                                  \n",
       "2012-12-31                                           0.102453                                                                  \n",
       "2013-12-31                                           0.101146                                                                  \n",
       "2014-12-31                                           0.002925                                                                  \n",
       "\n",
       "            CPI-U: All Items Less Food and Energy (NSA; 1982-84=100) % Change - Year to Year (Bureau of Labor Statistics)  \\\n",
       "Date                                                                                                                        \n",
       "2010-12-31                                           0.804454                                                               \n",
       "2011-12-31                                           2.229536                                                               \n",
       "2012-12-31                                           1.893358                                                               \n",
       "2013-12-31                                           1.717071                                                               \n",
       "2014-12-31                                           1.606383                                                               \n",
       "\n",
       "            Original FRB Cleveland Median CPI (SAAR; %chg) (Federal Reserve Bank of Cleveland)  \\\n",
       "Date                                                                                             \n",
       "2010-12-31                                                NaN                                    \n",
       "2011-12-31                                                NaN                                    \n",
       "2012-12-31                                                NaN                                    \n",
       "2013-12-31                                                NaN                                    \n",
       "2014-12-31                                                NaN                                    \n",
       "\n",
       "            Original FRB Cleveland Median CPI (SA; %chg) (Federal Reserve Bank of Cleveland)  \\\n",
       "Date                                                                                           \n",
       "2010-12-31                                                NaN                                  \n",
       "2011-12-31                                                NaN                                  \n",
       "2012-12-31                                                NaN                                  \n",
       "2013-12-31                                                NaN                                  \n",
       "2014-12-31                                                NaN                                  \n",
       "\n",
       "            Original FRB Cleveland Median CPI (SA; 12 Month %chg) (Federal Reserve Bank of Cleveland)  \\\n",
       "Date                                                                                                    \n",
       "2010-12-31                                                NaN                                           \n",
       "2011-12-31                                                NaN                                           \n",
       "2012-12-31                                                NaN                                           \n",
       "2013-12-31                                                NaN                                           \n",
       "2014-12-31                                                NaN                                           \n",
       "\n",
       "            PPI: Finished Goods (SA; 1982=100) (Bureau of Labor Statistics)  \\\n",
       "Date                                                                          \n",
       "2010-12-31                                              183.9                 \n",
       "2011-12-31                                              192.5                 \n",
       "2012-12-31                                              195.2                 \n",
       "2013-12-31                                              198.0                 \n",
       "2014-12-31                                              196.7                 \n",
       "\n",
       "                            ...                    \\\n",
       "Date                        ...                     \n",
       "2010-12-31                  ...                     \n",
       "2011-12-31                  ...                     \n",
       "2012-12-31                  ...                     \n",
       "2013-12-31                  ...                     \n",
       "2014-12-31                  ...                     \n",
       "\n",
       "            Original 16% trimmed mean (12 month %chg) (Federal Reserve Bank of Cleveland)  \\\n",
       "Date                                                                                        \n",
       "2010-12-31                                                NaN                               \n",
       "2011-12-31                                                NaN                               \n",
       "2012-12-31                                                NaN                               \n",
       "2013-12-31                                                NaN                               \n",
       "2014-12-31                                                NaN                               \n",
       "\n",
       "            Original 16% trimmed mean (SAAR; %chg) ()  \\\n",
       "Date                                                    \n",
       "2010-12-31                                        NaN   \n",
       "2011-12-31                                        NaN   \n",
       "2012-12-31                                        NaN   \n",
       "2013-12-31                                        NaN   \n",
       "2014-12-31                                        NaN   \n",
       "\n",
       "            Revised FRB Cleveland Median CPI (SA; Dec-82=1) (Federal Reserve Bank of Cleveland)  \\\n",
       "Date                                                                                              \n",
       "2010-12-31                                           2.324277                                     \n",
       "2011-12-31                                           2.374239                                     \n",
       "2012-12-31                                           2.424357                                     \n",
       "2013-12-31                                           2.474281                                     \n",
       "2014-12-31                                           2.529360                                     \n",
       "\n",
       "            Revised FRB Cleveland Median CPI (SA month-to-month %chg) (Federal Reserve Bank of Cleveland)  \\\n",
       "Date                                                                                                        \n",
       "2010-12-31                                           0.112541                                               \n",
       "2011-12-31                                           0.192794                                               \n",
       "2012-12-31                                           0.133728                                               \n",
       "2013-12-31                                           0.196737                                               \n",
       "2014-12-31                                           0.172587                                               \n",
       "\n",
       "            RevisedFRB Cleveland Median CPI (SA; 12 Month %chg) (Federal Reserve Bank of Cleveland)  \\\n",
       "Date                                                                                                  \n",
       "2010-12-31                                           0.730136                                         \n",
       "2011-12-31                                           2.149584                                         \n",
       "2012-12-31                                           2.110927                                         \n",
       "2013-12-31                                           2.059234                                         \n",
       "2014-12-31                                           2.226089                                         \n",
       "\n",
       "            RevisedFRB Cleveland Median CPI (SAAR; %chg) ()  \\\n",
       "Date                                                          \n",
       "2010-12-31                                         1.358886   \n",
       "2011-12-31                                         2.338215   \n",
       "2012-12-31                                         1.616596   \n",
       "2013-12-31                                         2.386552   \n",
       "2014-12-31                                         2.090811   \n",
       "\n",
       "            Revised 16% trimmed mean (SA; Dec-82=1) (Federal Reserve Bank of Cleveland)  \\\n",
       "Date                                                                                      \n",
       "2010-12-31                                           2.210981                             \n",
       "2011-12-31                                           2.266577                             \n",
       "2012-12-31                                           2.309504                             \n",
       "2013-12-31                                           2.347615                             \n",
       "2014-12-31                                           2.389326                             \n",
       "\n",
       "            Revised 16% trimmed mean (SA month-to-month %chg) (Federal Reserve Bank of Cleveland)  \\\n",
       "Date                                                                                                \n",
       "2010-12-31                                           0.122552                                       \n",
       "2011-12-31                                           0.120418                                       \n",
       "2012-12-31                                           0.094993                                       \n",
       "2013-12-31                                           0.162431                                       \n",
       "2014-12-31                                           0.096095                                       \n",
       "\n",
       "            Revised 16% trimmed mean (12 month %chg) (Federal Reserve Bank of Cleveland)  \\\n",
       "Date                                                                                       \n",
       "2010-12-31                                           0.838698                              \n",
       "2011-12-31                                           2.514502                              \n",
       "2012-12-31                                           1.893915                              \n",
       "2013-12-31                                           1.650211                              \n",
       "2014-12-31                                           1.776733                              \n",
       "\n",
       "            Revised 16% trimmed mean (SAAR; %chg)  \n",
       "Date                                               \n",
       "2010-12-31                               1.480579  \n",
       "2011-12-31                               1.454622  \n",
       "2012-12-31                               1.145889  \n",
       "2013-12-31                               1.966678  \n",
       "2014-12-31                               1.159257  \n",
       "\n",
       "[5 rows x 36 columns]"
      ]
     },
     "execution_count": 6,
     "metadata": {},
     "output_type": "execute_result"
    }
   ],
   "source": [
    "df_cpi = qd.get('FRBC/USINFL', authtoken=auth, collapse='annual')\n",
    "df_cpi.tail()"
   ]
  },
  {
   "cell_type": "markdown",
   "metadata": {},
   "source": [
    "For the purpose of our analysis, we're going to use the most basic CPI metric."
   ]
  },
  {
   "cell_type": "code",
   "execution_count": 7,
   "metadata": {
    "collapsed": false,
    "scrolled": true
   },
   "outputs": [
    {
     "data": {
      "text/html": [
       "<div>\n",
       "<table border=\"1\" class=\"dataframe\">\n",
       "  <thead>\n",
       "    <tr style=\"text-align: right;\">\n",
       "      <th></th>\n",
       "      <th>CPI-U: All Items (SA; 1982-84=100) (Bureau of Labor Statistics)</th>\n",
       "    </tr>\n",
       "    <tr>\n",
       "      <th>Date</th>\n",
       "      <th></th>\n",
       "    </tr>\n",
       "  </thead>\n",
       "  <tbody>\n",
       "    <tr>\n",
       "      <th>2010-12-31</th>\n",
       "      <td>220.437</td>\n",
       "    </tr>\n",
       "    <tr>\n",
       "      <th>2011-12-31</th>\n",
       "      <td>227.093</td>\n",
       "    </tr>\n",
       "    <tr>\n",
       "      <th>2012-12-31</th>\n",
       "      <td>231.099</td>\n",
       "    </tr>\n",
       "    <tr>\n",
       "      <th>2013-12-31</th>\n",
       "      <td>234.594</td>\n",
       "    </tr>\n",
       "    <tr>\n",
       "      <th>2014-12-31</th>\n",
       "      <td>236.149</td>\n",
       "    </tr>\n",
       "  </tbody>\n",
       "</table>\n",
       "</div>"
      ],
      "text/plain": [
       "            CPI-U: All Items (SA; 1982-84=100) (Bureau of Labor Statistics)\n",
       "Date                                                                       \n",
       "2010-12-31                                            220.437              \n",
       "2011-12-31                                            227.093              \n",
       "2012-12-31                                            231.099              \n",
       "2013-12-31                                            234.594              \n",
       "2014-12-31                                            236.149              "
      ]
     },
     "execution_count": 7,
     "metadata": {},
     "output_type": "execute_result"
    }
   ],
   "source": [
    "df_cpi = df_cpi.ix[:,:1]\n",
    "df_cpi.tail()"
   ]
  },
  {
   "cell_type": "markdown",
   "metadata": {},
   "source": [
    "Pandas allows for easy plotting. In iPython Notebooks, the \"magic\" command \"%matplotlib inline\" must be used to display these graphics."
   ]
  },
  {
   "cell_type": "code",
   "execution_count": 8,
   "metadata": {
    "collapsed": false,
    "scrolled": true
   },
   "outputs": [
    {
     "data": {
      "text/plain": [
       "<matplotlib.axes._subplots.AxesSubplot at 0x8a53490>"
      ]
     },
     "execution_count": 8,
     "metadata": {},
     "output_type": "execute_result"
    },
    {
     "data": {
      "image/png": "[encoded data removed]",
      "text/plain": [
       "<matplotlib.figure.Figure at 0x8a53230>"
      ]
     },
     "metadata": {},
     "output_type": "display_data"
    }
   ],
   "source": [
    "df_cpi.reset_index().plot(x='Date', y='CPI-U: All Items (SA; 1982-84=100) (Bureau of Labor Statistics)',\\\n",
    "                          legend=False,title='Historical CPI')"
   ]
  },
  {
   "cell_type": "markdown",
   "metadata": {},
   "source": [
    "            A historical view of CPI."
   ]
  },
  {
   "cell_type": "markdown",
   "metadata": {},
   "source": [
    "<a id='Unemp'></a>  \n",
    "### Fetch Unemployment Data from Quandl"
   ]
  },
  {
   "cell_type": "code",
   "execution_count": 9,
   "metadata": {
    "collapsed": false
   },
   "outputs": [
    {
     "data": {
      "text/html": [
       "<div>\n",
       "<table border=\"1\" class=\"dataframe\">\n",
       "  <thead>\n",
       "    <tr style=\"text-align: right;\">\n",
       "      <th></th>\n",
       "      <th>Total</th>\n",
       "      <th>Men</th>\n",
       "      <th>Women</th>\n",
       "      <th>White</th>\n",
       "      <th>African American</th>\n",
       "      <th>Hispanic</th>\n",
       "      <th>Asian</th>\n",
       "      <th>Age 16-24</th>\n",
       "      <th>Age 25-54</th>\n",
       "      <th>Age 55+</th>\n",
       "      <th>White Collar</th>\n",
       "      <th>Blue Collar</th>\n",
       "      <th>Services</th>\n",
       "    </tr>\n",
       "    <tr>\n",
       "      <th>Year</th>\n",
       "      <th></th>\n",
       "      <th></th>\n",
       "      <th></th>\n",
       "      <th></th>\n",
       "      <th></th>\n",
       "      <th></th>\n",
       "      <th></th>\n",
       "      <th></th>\n",
       "      <th></th>\n",
       "      <th></th>\n",
       "      <th></th>\n",
       "      <th></th>\n",
       "      <th></th>\n",
       "    </tr>\n",
       "  </thead>\n",
       "  <tbody>\n",
       "    <tr>\n",
       "      <th>2007-12-31</th>\n",
       "      <td>4.6</td>\n",
       "      <td>4.7</td>\n",
       "      <td>4.5</td>\n",
       "      <td>4.1</td>\n",
       "      <td>8.3</td>\n",
       "      <td>5.6</td>\n",
       "      <td>3.2</td>\n",
       "      <td>10.5</td>\n",
       "      <td>3.7</td>\n",
       "      <td>3.1</td>\n",
       "      <td>3.007912</td>\n",
       "      <td>6.041383</td>\n",
       "      <td>5.931819</td>\n",
       "    </tr>\n",
       "    <tr>\n",
       "      <th>2008-12-31</th>\n",
       "      <td>5.8</td>\n",
       "      <td>6.1</td>\n",
       "      <td>5.4</td>\n",
       "      <td>5.2</td>\n",
       "      <td>10.1</td>\n",
       "      <td>7.6</td>\n",
       "      <td>4.0</td>\n",
       "      <td>12.8</td>\n",
       "      <td>4.8</td>\n",
       "      <td>3.8</td>\n",
       "      <td>3.778128</td>\n",
       "      <td>8.160702</td>\n",
       "      <td>6.742745</td>\n",
       "    </tr>\n",
       "    <tr>\n",
       "      <th>2009-12-31</th>\n",
       "      <td>9.3</td>\n",
       "      <td>10.3</td>\n",
       "      <td>8.1</td>\n",
       "      <td>8.5</td>\n",
       "      <td>14.8</td>\n",
       "      <td>12.1</td>\n",
       "      <td>7.3</td>\n",
       "      <td>17.6</td>\n",
       "      <td>8.3</td>\n",
       "      <td>6.6</td>\n",
       "      <td>6.188264</td>\n",
       "      <td>14.377497</td>\n",
       "      <td>9.570962</td>\n",
       "    </tr>\n",
       "    <tr>\n",
       "      <th>2010-12-31</th>\n",
       "      <td>9.6</td>\n",
       "      <td>10.5</td>\n",
       "      <td>8.6</td>\n",
       "      <td>8.7</td>\n",
       "      <td>16.0</td>\n",
       "      <td>12.5</td>\n",
       "      <td>7.5</td>\n",
       "      <td>18.4</td>\n",
       "      <td>8.6</td>\n",
       "      <td>7.0</td>\n",
       "      <td>6.458873</td>\n",
       "      <td>14.284966</td>\n",
       "      <td>10.271156</td>\n",
       "    </tr>\n",
       "    <tr>\n",
       "      <th>2011-12-31</th>\n",
       "      <td>8.9</td>\n",
       "      <td>9.4</td>\n",
       "      <td>8.5</td>\n",
       "      <td>7.9</td>\n",
       "      <td>15.8</td>\n",
       "      <td>11.5</td>\n",
       "      <td>7.0</td>\n",
       "      <td>17.3</td>\n",
       "      <td>7.9</td>\n",
       "      <td>6.6</td>\n",
       "      <td>6.132580</td>\n",
       "      <td>12.216036</td>\n",
       "      <td>9.912423</td>\n",
       "    </tr>\n",
       "  </tbody>\n",
       "</table>\n",
       "</div>"
      ],
      "text/plain": [
       "            Total   Men  Women  White  African American  Hispanic  Asian  \\\n",
       "Year                                                                       \n",
       "2007-12-31    4.6   4.7    4.5    4.1               8.3       5.6    3.2   \n",
       "2008-12-31    5.8   6.1    5.4    5.2              10.1       7.6    4.0   \n",
       "2009-12-31    9.3  10.3    8.1    8.5              14.8      12.1    7.3   \n",
       "2010-12-31    9.6  10.5    8.6    8.7              16.0      12.5    7.5   \n",
       "2011-12-31    8.9   9.4    8.5    7.9              15.8      11.5    7.0   \n",
       "\n",
       "            Age 16-24  Age 25-54  Age 55+  White Collar  Blue Collar  \\\n",
       "Year                                                                   \n",
       "2007-12-31       10.5        3.7      3.1      3.007912     6.041383   \n",
       "2008-12-31       12.8        4.8      3.8      3.778128     8.160702   \n",
       "2009-12-31       17.6        8.3      6.6      6.188264    14.377497   \n",
       "2010-12-31       18.4        8.6      7.0      6.458873    14.284966   \n",
       "2011-12-31       17.3        7.9      6.6      6.132580    12.216036   \n",
       "\n",
       "             Services  \n",
       "Year                   \n",
       "2007-12-31   5.931819  \n",
       "2008-12-31   6.742745  \n",
       "2009-12-31   9.570962  \n",
       "2010-12-31  10.271156  \n",
       "2011-12-31   9.912423  "
      ]
     },
     "execution_count": 9,
     "metadata": {},
     "output_type": "execute_result"
    }
   ],
   "source": [
    "df_unemp = qd.get('ECPI/JOB_UNEMPLOYMENT_RATE',collapse='quarterly',authtoken=auth)\n",
    "df_unemp.tail()"
   ]
  },
  {
   "cell_type": "markdown",
   "metadata": {},
   "source": [
    "The Pandas \"ix\" command allows us to grab slices (syntax is [row:row , column:column]) of a dataframe. In this command, we select all rows, and columns 0-1 (the first column."
   ]
  },
  {
   "cell_type": "code",
   "execution_count": 10,
   "metadata": {
    "collapsed": false
   },
   "outputs": [
    {
     "data": {
      "text/html": [
       "<script type=\"text/javascript\">\n",
       "if ($(\"#dg-css\").length == 0){\n",
       "    $(\"head\").append([\n",
       "        \"<link href='https://cdn.rawgit.com/quantopian/qgrid/72d356cb123fab413dba73ec46616e4916fbd827/qgrid/qgridjs//lib/slick.grid.css' rel='stylesheet'>\",\n",
       "        \"<link href='https://cdn.rawgit.com/quantopian/qgrid/72d356cb123fab413dba73ec46616e4916fbd827/qgrid/qgridjs//lib/slick-default-theme.css' rel='stylesheet'>\",\n",
       "        \"<link href='http://cdnjs.cloudflare.com/ajax/libs/jqueryui/1.10.4/css/jquery-ui.min.css' rel='stylesheet'>\",\n",
       "        \"<link id='dg-css' href='https://cdn.rawgit.com/quantopian/qgrid/72d356cb123fab413dba73ec46616e4916fbd827/qgrid/qgridjs//qgrid.css' rel='stylesheet'>\"\n",
       "    ]);\n",
       "}\n",
       "</script>\n",
       "<div class='q-grid-container'>\n",
       "<div id='07a5a278-1802-498e-a9ad-7cac82de522f' class='q-grid'></div>\n",
       "</div>"
      ]
     },
     "metadata": {},
     "output_type": "display_data"
    },
    {
     "data": {
      "application/javascript": [
       "var path_dictionary = {\n",
       "    jquery_drag: \"https://cdn.rawgit.com/quantopian/qgrid/72d356cb123fab413dba73ec46616e4916fbd827/qgrid/qgridjs//lib/jquery.event.drag-2.2\",\n",
       "    slick_core: \"https://cdn.rawgit.com/quantopian/qgrid/72d356cb123fab413dba73ec46616e4916fbd827/qgrid/qgridjs//lib/slick.core.2.2\",\n",
       "    slick_data_view: \"https://cdn.rawgit.com/quantopian/qgrid/72d356cb123fab413dba73ec46616e4916fbd827/qgrid/qgridjs//lib/slick.dataview.2.2\",\n",
       "    slick_check_box_column: \"https://cdn.rawgit.com/quantopian/qgrid/72d356cb123fab413dba73ec46616e4916fbd827/qgrid/qgridjs//lib/slick.checkboxselectcolumn\",\n",
       "    slick_row_selection_model: \"https://cdn.rawgit.com/quantopian/qgrid/72d356cb123fab413dba73ec46616e4916fbd827/qgrid/qgridjs//lib/slick.rowselectionmodel\",\n",
       "    slick_grid: \"https://cdn.rawgit.com/quantopian/qgrid/72d356cb123fab413dba73ec46616e4916fbd827/qgrid/qgridjs//lib/slick.grid.2.2\",\n",
       "    data_grid: \"https://cdn.rawgit.com/quantopian/qgrid/72d356cb123fab413dba73ec46616e4916fbd827/qgrid/qgridjs//qgrid\",\n",
       "    date_filter: \"https://cdn.rawgit.com/quantopian/qgrid/72d356cb123fab413dba73ec46616e4916fbd827/qgrid/qgridjs//qgrid.datefilter\",\n",
       "    slider_filter: \"https://cdn.rawgit.com/quantopian/qgrid/72d356cb123fab413dba73ec46616e4916fbd827/qgrid/qgridjs//qgrid.sliderfilter\",\n",
       "    text_filter: \"https://cdn.rawgit.com/quantopian/qgrid/72d356cb123fab413dba73ec46616e4916fbd827/qgrid/qgridjs//qgrid.textfilter\",\n",
       "    filter_base:  \"https://cdn.rawgit.com/quantopian/qgrid/72d356cb123fab413dba73ec46616e4916fbd827/qgrid/qgridjs//qgrid.filterbase\",\n",
       "    handlebars: \"https://cdnjs.cloudflare.com/ajax/libs/handlebars.js/2.0.0/handlebars.min\"\n",
       "};\n",
       "\n",
       "var existing_config = require.s.contexts._.config;\n",
       "if (!existing_config.paths['underscore']){\n",
       "    path_dictionary['underscore'] = \"https://cdnjs.cloudflare.com/ajax/libs/underscore.js/1.7.0/underscore-min\";\n",
       "}\n",
       "\n",
       "if (!existing_config.paths['moment']){\n",
       "    path_dictionary['moment'] = \"https://cdnjs.cloudflare.com/ajax/libs/moment.js/2.8.3/moment.min\";\n",
       "}\n",
       "\n",
       "if (!existing_config.paths['jqueryui']){\n",
       "    path_dictionary['jqueryui'] = \"https://ajax.googleapis.com/ajax/libs/jqueryui/1.11.1/jquery-ui.min\";\n",
       "}\n",
       "\n",
       "require.config({\n",
       "    paths: path_dictionary\n",
       "});\n",
       "\n",
       "if (typeof jQuery === 'function') {\n",
       "    define('jquery', function() { return jQuery; });\n",
       "}\n",
       "\n",
       "require([\n",
       "    'jquery',\n",
       "    'jquery_drag',\n",
       "    'slick_core',\n",
       "    'slick_data_view'\n",
       "],\n",
       "function($){\n",
       "    $('#07a5a278-1802-498e-a9ad-7cac82de522f').closest('.rendered_html').removeClass('rendered_html');\n",
       "    require([\n",
       "      'slick_check_box_column',\n",
       "      'slick_row_selection_model',\n",
       "      'slick_grid'\n",
       "    ], function(){\n",
       "        require([\"data_grid\"], function(dgrid){\n",
       "            var grid = new dgrid.QGrid('#07a5a278-1802-498e-a9ad-7cac82de522f', [{\"Year\":\"1948-12-31T00:00:00.000Z\",\"Total\":3.8},{\"Year\":\"1949-12-31T00:00:00.000Z\",\"Total\":5.9},{\"Year\":\"1950-12-31T00:00:00.000Z\",\"Total\":5.3},{\"Year\":\"1951-12-31T00:00:00.000Z\",\"Total\":3.3},{\"Year\":\"1952-12-31T00:00:00.000Z\",\"Total\":3.0},{\"Year\":\"1953-12-31T00:00:00.000Z\",\"Total\":2.9},{\"Year\":\"1954-12-31T00:00:00.000Z\",\"Total\":5.5},{\"Year\":\"1955-12-31T00:00:00.000Z\",\"Total\":4.4},{\"Year\":\"1956-12-31T00:00:00.000Z\",\"Total\":4.1},{\"Year\":\"1957-12-31T00:00:00.000Z\",\"Total\":4.3},{\"Year\":\"1958-12-31T00:00:00.000Z\",\"Total\":6.8},{\"Year\":\"1959-12-31T00:00:00.000Z\",\"Total\":5.5},{\"Year\":\"1960-12-31T00:00:00.000Z\",\"Total\":5.5},{\"Year\":\"1961-12-31T00:00:00.000Z\",\"Total\":6.7},{\"Year\":\"1962-12-31T00:00:00.000Z\",\"Total\":5.5},{\"Year\":\"1963-12-31T00:00:00.000Z\",\"Total\":5.7},{\"Year\":\"1964-12-31T00:00:00.000Z\",\"Total\":5.2},{\"Year\":\"1965-12-31T00:00:00.000Z\",\"Total\":4.5},{\"Year\":\"1966-12-31T00:00:00.000Z\",\"Total\":3.8},{\"Year\":\"1967-12-31T00:00:00.000Z\",\"Total\":3.8},{\"Year\":\"1968-12-31T00:00:00.000Z\",\"Total\":3.6},{\"Year\":\"1969-12-31T00:00:00.000Z\",\"Total\":3.5},{\"Year\":\"1970-12-31T00:00:00.000Z\",\"Total\":4.9},{\"Year\":\"1971-12-31T00:00:00.000Z\",\"Total\":5.9},{\"Year\":\"1972-12-31T00:00:00.000Z\",\"Total\":5.6},{\"Year\":\"1973-12-31T00:00:00.000Z\",\"Total\":4.9},{\"Year\":\"1974-12-31T00:00:00.000Z\",\"Total\":5.6},{\"Year\":\"1975-12-31T00:00:00.000Z\",\"Total\":8.5},{\"Year\":\"1976-12-31T00:00:00.000Z\",\"Total\":7.7},{\"Year\":\"1977-12-31T00:00:00.000Z\",\"Total\":7.1},{\"Year\":\"1978-12-31T00:00:00.000Z\",\"Total\":6.1},{\"Year\":\"1979-12-31T00:00:00.000Z\",\"Total\":5.8},{\"Year\":\"1980-12-31T00:00:00.000Z\",\"Total\":7.1},{\"Year\":\"1981-12-31T00:00:00.000Z\",\"Total\":7.6},{\"Year\":\"1982-12-31T00:00:00.000Z\",\"Total\":9.7},{\"Year\":\"1983-12-31T00:00:00.000Z\",\"Total\":9.6},{\"Year\":\"1984-12-31T00:00:00.000Z\",\"Total\":7.5},{\"Year\":\"1985-12-31T00:00:00.000Z\",\"Total\":7.2},{\"Year\":\"1986-12-31T00:00:00.000Z\",\"Total\":7.0},{\"Year\":\"1987-12-31T00:00:00.000Z\",\"Total\":6.2},{\"Year\":\"1988-12-31T00:00:00.000Z\",\"Total\":5.5},{\"Year\":\"1989-12-31T00:00:00.000Z\",\"Total\":5.3},{\"Year\":\"1990-12-31T00:00:00.000Z\",\"Total\":5.6},{\"Year\":\"1991-12-31T00:00:00.000Z\",\"Total\":6.8},{\"Year\":\"1992-12-31T00:00:00.000Z\",\"Total\":7.5},{\"Year\":\"1993-12-31T00:00:00.000Z\",\"Total\":6.9},{\"Year\":\"1994-12-31T00:00:00.000Z\",\"Total\":6.1},{\"Year\":\"1995-12-31T00:00:00.000Z\",\"Total\":5.6},{\"Year\":\"1996-12-31T00:00:00.000Z\",\"Total\":5.4},{\"Year\":\"1997-12-31T00:00:00.000Z\",\"Total\":4.9},{\"Year\":\"1998-12-31T00:00:00.000Z\",\"Total\":4.5},{\"Year\":\"1999-12-31T00:00:00.000Z\",\"Total\":4.2},{\"Year\":\"2000-12-31T00:00:00.000Z\",\"Total\":4.0},{\"Year\":\"2001-12-31T00:00:00.000Z\",\"Total\":4.7},{\"Year\":\"2002-12-31T00:00:00.000Z\",\"Total\":5.8},{\"Year\":\"2003-12-31T00:00:00.000Z\",\"Total\":6.0},{\"Year\":\"2004-12-31T00:00:00.000Z\",\"Total\":5.5},{\"Year\":\"2005-12-31T00:00:00.000Z\",\"Total\":5.1},{\"Year\":\"2006-12-31T00:00:00.000Z\",\"Total\":4.6},{\"Year\":\"2007-12-31T00:00:00.000Z\",\"Total\":4.6},{\"Year\":\"2008-12-31T00:00:00.000Z\",\"Total\":5.8},{\"Year\":\"2009-12-31T00:00:00.000Z\",\"Total\":9.3},{\"Year\":\"2010-12-31T00:00:00.000Z\",\"Total\":9.6},{\"Year\":\"2011-12-31T00:00:00.000Z\",\"Total\":8.9}], [{\"field\": \"Year\", \"type\": \"Datetime\"}, {\"field\": \"Total\", \"type\": \"Float\"}]);\n",
       "            grid.initialize_slick_grid({\"fullWidthRows\": true, \"rowHeight\": 28, \"enableColumnReorder\": false, \"enableTextSelectionOnCells\": true, \"syncColumnCellResize\": true, \"forceFitColumns\": true});\n",
       "        });\n",
       "    });\n",
       "});\n"
      ]
     },
     "metadata": {},
     "output_type": "display_data"
    }
   ],
   "source": [
    "df_unemp = df_unemp.ix[:,:1]\n",
    "q.show_grid(df_unemp)"
   ]
  },
  {
   "cell_type": "code",
   "execution_count": 11,
   "metadata": {
    "collapsed": false
   },
   "outputs": [
    {
     "data": {
      "text/plain": [
       "<matplotlib.axes._subplots.AxesSubplot at 0x8ad5e70>"
      ]
     },
     "execution_count": 11,
     "metadata": {},
     "output_type": "execute_result"
    },
    {
     "data": {
      "image/png": "[encoded data removed]",
      "text/plain": [
       "<matplotlib.figure.Figure at 0x8ad5c50>"
      ]
     },
     "metadata": {},
     "output_type": "display_data"
    }
   ],
   "source": [
    "df_unemp.reset_index().plot(x='Year', y='Total',legend=False, title='Historical Unemployment Rate')"
   ]
  },
  {
   "cell_type": "markdown",
   "metadata": {},
   "source": [
    "       A historical view of Unemployment Rate."
   ]
  },
  {
   "cell_type": "markdown",
   "metadata": {},
   "source": [
    "<a id='concat'></a>  \n",
    "### Combine Datasets"
   ]
  },
  {
   "cell_type": "markdown",
   "metadata": {},
   "source": [
    "Pandas allows programmers to combine datasets using very simple commands. Since each of our dataframes has a date index, Pandas knows this is the primary key it will join on. The Concat function defaults to an outer join; however, inner joins can be used as well. If we were merging two dataframes which did not have a common index, we would use the \"merge\" command and specify which columns to merge on.\n"
   ]
  },
  {
   "cell_type": "code",
   "execution_count": 12,
   "metadata": {
    "collapsed": false
   },
   "outputs": [],
   "source": [
    "df = pd.concat([df_cpi, df_unemp],axis=1)\n",
    "df.columns =  [ 'CPI','Unemployment_Rate',]"
   ]
  },
  {
   "cell_type": "markdown",
   "metadata": {},
   "source": [
    "The SQL equivalent to the previous command is:  \n",
    "\n",
    "select df_cpi.[CPI-U: All Items (SA; 1982-84=100) (Bureau of Labor Statistics] as CPI, df_unemp.Total as Unemployment_Rate  \n",
    "into df\n",
    "from df_cpi full outer join df_unemp  \n",
    "on df_cpi.Date = df_unemp.Date"
   ]
  },
  {
   "cell_type": "code",
   "execution_count": 13,
   "metadata": {
    "collapsed": false
   },
   "outputs": [
    {
     "data": {
      "text/html": [
       "<script type=\"text/javascript\">\n",
       "if ($(\"#dg-css\").length == 0){\n",
       "    $(\"head\").append([\n",
       "        \"<link href='https://cdn.rawgit.com/quantopian/qgrid/72d356cb123fab413dba73ec46616e4916fbd827/qgrid/qgridjs//lib/slick.grid.css' rel='stylesheet'>\",\n",
       "        \"<link href='https://cdn.rawgit.com/quantopian/qgrid/72d356cb123fab413dba73ec46616e4916fbd827/qgrid/qgridjs//lib/slick-default-theme.css' rel='stylesheet'>\",\n",
       "        \"<link href='http://cdnjs.cloudflare.com/ajax/libs/jqueryui/1.10.4/css/jquery-ui.min.css' rel='stylesheet'>\",\n",
       "        \"<link id='dg-css' href='https://cdn.rawgit.com/quantopian/qgrid/72d356cb123fab413dba73ec46616e4916fbd827/qgrid/qgridjs//qgrid.css' rel='stylesheet'>\"\n",
       "    ]);\n",
       "}\n",
       "</script>\n",
       "<div class='q-grid-container'>\n",
       "<div id='f3429d01-6d19-426f-8e18-99ca15f4bd1d' class='q-grid'></div>\n",
       "</div>"
      ]
     },
     "metadata": {},
     "output_type": "display_data"
    },
    {
     "data": {
      "application/javascript": [
       "var path_dictionary = {\n",
       "    jquery_drag: \"https://cdn.rawgit.com/quantopian/qgrid/72d356cb123fab413dba73ec46616e4916fbd827/qgrid/qgridjs//lib/jquery.event.drag-2.2\",\n",
       "    slick_core: \"https://cdn.rawgit.com/quantopian/qgrid/72d356cb123fab413dba73ec46616e4916fbd827/qgrid/qgridjs//lib/slick.core.2.2\",\n",
       "    slick_data_view: \"https://cdn.rawgit.com/quantopian/qgrid/72d356cb123fab413dba73ec46616e4916fbd827/qgrid/qgridjs//lib/slick.dataview.2.2\",\n",
       "    slick_check_box_column: \"https://cdn.rawgit.com/quantopian/qgrid/72d356cb123fab413dba73ec46616e4916fbd827/qgrid/qgridjs//lib/slick.checkboxselectcolumn\",\n",
       "    slick_row_selection_model: \"https://cdn.rawgit.com/quantopian/qgrid/72d356cb123fab413dba73ec46616e4916fbd827/qgrid/qgridjs//lib/slick.rowselectionmodel\",\n",
       "    slick_grid: \"https://cdn.rawgit.com/quantopian/qgrid/72d356cb123fab413dba73ec46616e4916fbd827/qgrid/qgridjs//lib/slick.grid.2.2\",\n",
       "    data_grid: \"https://cdn.rawgit.com/quantopian/qgrid/72d356cb123fab413dba73ec46616e4916fbd827/qgrid/qgridjs//qgrid\",\n",
       "    date_filter: \"https://cdn.rawgit.com/quantopian/qgrid/72d356cb123fab413dba73ec46616e4916fbd827/qgrid/qgridjs//qgrid.datefilter\",\n",
       "    slider_filter: \"https://cdn.rawgit.com/quantopian/qgrid/72d356cb123fab413dba73ec46616e4916fbd827/qgrid/qgridjs//qgrid.sliderfilter\",\n",
       "    text_filter: \"https://cdn.rawgit.com/quantopian/qgrid/72d356cb123fab413dba73ec46616e4916fbd827/qgrid/qgridjs//qgrid.textfilter\",\n",
       "    filter_base:  \"https://cdn.rawgit.com/quantopian/qgrid/72d356cb123fab413dba73ec46616e4916fbd827/qgrid/qgridjs//qgrid.filterbase\",\n",
       "    handlebars: \"https://cdnjs.cloudflare.com/ajax/libs/handlebars.js/2.0.0/handlebars.min\"\n",
       "};\n",
       "\n",
       "var existing_config = require.s.contexts._.config;\n",
       "if (!existing_config.paths['underscore']){\n",
       "    path_dictionary['underscore'] = \"https://cdnjs.cloudflare.com/ajax/libs/underscore.js/1.7.0/underscore-min\";\n",
       "}\n",
       "\n",
       "if (!existing_config.paths['moment']){\n",
       "    path_dictionary['moment'] = \"https://cdnjs.cloudflare.com/ajax/libs/moment.js/2.8.3/moment.min\";\n",
       "}\n",
       "\n",
       "if (!existing_config.paths['jqueryui']){\n",
       "    path_dictionary['jqueryui'] = \"https://ajax.googleapis.com/ajax/libs/jqueryui/1.11.1/jquery-ui.min\";\n",
       "}\n",
       "\n",
       "require.config({\n",
       "    paths: path_dictionary\n",
       "});\n",
       "\n",
       "if (typeof jQuery === 'function') {\n",
       "    define('jquery', function() { return jQuery; });\n",
       "}\n",
       "\n",
       "require([\n",
       "    'jquery',\n",
       "    'jquery_drag',\n",
       "    'slick_core',\n",
       "    'slick_data_view'\n",
       "],\n",
       "function($){\n",
       "    $('#f3429d01-6d19-426f-8e18-99ca15f4bd1d').closest('.rendered_html').removeClass('rendered_html');\n",
       "    require([\n",
       "      'slick_check_box_column',\n",
       "      'slick_row_selection_model',\n",
       "      'slick_grid'\n",
       "    ], function(){\n",
       "        require([\"data_grid\"], function(dgrid){\n",
       "            var grid = new dgrid.QGrid('#f3429d01-6d19-426f-8e18-99ca15f4bd1d', [{\"null\":\"1947-12-31T00:00:00.000Z\",\"CPI\":23.41,\"Unemployment_Rate\":null},{\"null\":\"1948-12-31T00:00:00.000Z\",\"CPI\":24.05,\"Unemployment_Rate\":3.8},{\"null\":\"1949-12-31T00:00:00.000Z\",\"CPI\":23.61,\"Unemployment_Rate\":5.9},{\"null\":\"1950-12-31T00:00:00.000Z\",\"CPI\":24.98,\"Unemployment_Rate\":5.3},{\"null\":\"1951-12-31T00:00:00.000Z\",\"CPI\":26.47,\"Unemployment_Rate\":3.3},{\"null\":\"1952-12-31T00:00:00.000Z\",\"CPI\":26.71,\"Unemployment_Rate\":3.0},{\"null\":\"1953-12-31T00:00:00.000Z\",\"CPI\":26.87,\"Unemployment_Rate\":2.9},{\"null\":\"1954-12-31T00:00:00.000Z\",\"CPI\":26.77,\"Unemployment_Rate\":5.5},{\"null\":\"1955-12-31T00:00:00.000Z\",\"CPI\":26.87,\"Unemployment_Rate\":4.4},{\"null\":\"1956-12-31T00:00:00.000Z\",\"CPI\":27.63,\"Unemployment_Rate\":4.1},{\"null\":\"1957-12-31T00:00:00.000Z\",\"CPI\":28.47,\"Unemployment_Rate\":4.3},{\"null\":\"1958-12-31T00:00:00.000Z\",\"CPI\":28.97,\"Unemployment_Rate\":6.8},{\"null\":\"1959-12-31T00:00:00.000Z\",\"CPI\":29.41,\"Unemployment_Rate\":5.5},{\"null\":\"1960-12-31T00:00:00.000Z\",\"CPI\":29.81,\"Unemployment_Rate\":5.5},{\"null\":\"1961-12-31T00:00:00.000Z\",\"CPI\":30.01,\"Unemployment_Rate\":6.7},{\"null\":\"1962-12-31T00:00:00.000Z\",\"CPI\":30.38,\"Unemployment_Rate\":5.5},{\"null\":\"1963-12-31T00:00:00.000Z\",\"CPI\":30.88,\"Unemployment_Rate\":5.7},{\"null\":\"1964-12-31T00:00:00.000Z\",\"CPI\":31.25,\"Unemployment_Rate\":5.2},{\"null\":\"1965-12-31T00:00:00.000Z\",\"CPI\":31.85,\"Unemployment_Rate\":4.5},{\"null\":\"1966-12-31T00:00:00.000Z\",\"CPI\":32.92,\"Unemployment_Rate\":3.8},{\"null\":\"1967-12-31T00:00:00.000Z\",\"CPI\":34.0,\"Unemployment_Rate\":3.8},{\"null\":\"1968-12-31T00:00:00.000Z\",\"CPI\":35.6,\"Unemployment_Rate\":3.6},{\"null\":\"1969-12-31T00:00:00.000Z\",\"CPI\":37.7,\"Unemployment_Rate\":3.5},{\"null\":\"1970-12-31T00:00:00.000Z\",\"CPI\":39.8,\"Unemployment_Rate\":4.9},{\"null\":\"1971-12-31T00:00:00.000Z\",\"CPI\":41.1,\"Unemployment_Rate\":5.9},{\"null\":\"1972-12-31T00:00:00.000Z\",\"CPI\":42.5,\"Unemployment_Rate\":5.6},{\"null\":\"1973-12-31T00:00:00.000Z\",\"CPI\":46.3,\"Unemployment_Rate\":4.9},{\"null\":\"1974-12-31T00:00:00.000Z\",\"CPI\":51.9,\"Unemployment_Rate\":5.6},{\"null\":\"1975-12-31T00:00:00.000Z\",\"CPI\":55.6,\"Unemployment_Rate\":8.5},{\"null\":\"1976-12-31T00:00:00.000Z\",\"CPI\":58.4,\"Unemployment_Rate\":7.7},{\"null\":\"1977-12-31T00:00:00.000Z\",\"CPI\":62.3,\"Unemployment_Rate\":7.1},{\"null\":\"1978-12-31T00:00:00.000Z\",\"CPI\":67.9,\"Unemployment_Rate\":6.1},{\"null\":\"1979-12-31T00:00:00.000Z\",\"CPI\":76.9,\"Unemployment_Rate\":5.8},{\"null\":\"1980-12-31T00:00:00.000Z\",\"CPI\":86.4,\"Unemployment_Rate\":7.1},{\"null\":\"1981-12-31T00:00:00.000Z\",\"CPI\":94.1,\"Unemployment_Rate\":7.6},{\"null\":\"1982-12-31T00:00:00.000Z\",\"CPI\":97.7,\"Unemployment_Rate\":9.7},{\"null\":\"1983-12-31T00:00:00.000Z\",\"CPI\":101.4,\"Unemployment_Rate\":9.6},{\"null\":\"1984-12-31T00:00:00.000Z\",\"CPI\":105.5,\"Unemployment_Rate\":7.5},{\"null\":\"1985-12-31T00:00:00.000Z\",\"CPI\":109.5,\"Unemployment_Rate\":7.2},{\"null\":\"1986-12-31T00:00:00.000Z\",\"CPI\":110.8,\"Unemployment_Rate\":7.0},{\"null\":\"1987-12-31T00:00:00.000Z\",\"CPI\":115.6,\"Unemployment_Rate\":6.2},{\"null\":\"1988-12-31T00:00:00.000Z\",\"CPI\":120.7,\"Unemployment_Rate\":5.5},{\"null\":\"1989-12-31T00:00:00.000Z\",\"CPI\":126.3,\"Unemployment_Rate\":5.3},{\"null\":\"1990-12-31T00:00:00.000Z\",\"CPI\":134.2,\"Unemployment_Rate\":5.6},{\"null\":\"1991-12-31T00:00:00.000Z\",\"CPI\":138.2,\"Unemployment_Rate\":6.8},{\"null\":\"1992-12-31T00:00:00.000Z\",\"CPI\":142.3,\"Unemployment_Rate\":7.5},{\"null\":\"1993-12-31T00:00:00.000Z\",\"CPI\":146.3,\"Unemployment_Rate\":6.9},{\"null\":\"1994-12-31T00:00:00.000Z\",\"CPI\":150.1,\"Unemployment_Rate\":6.1},{\"null\":\"1995-12-31T00:00:00.000Z\",\"CPI\":153.9,\"Unemployment_Rate\":5.6},{\"null\":\"1996-12-31T00:00:00.000Z\",\"CPI\":159.1,\"Unemployment_Rate\":5.4},{\"null\":\"1997-12-31T00:00:00.000Z\",\"CPI\":161.8,\"Unemployment_Rate\":4.9},{\"null\":\"1998-12-31T00:00:00.000Z\",\"CPI\":164.4,\"Unemployment_Rate\":4.5},{\"null\":\"1999-12-31T00:00:00.000Z\",\"CPI\":168.8,\"Unemployment_Rate\":4.2},{\"null\":\"2000-12-31T00:00:00.000Z\",\"CPI\":174.6,\"Unemployment_Rate\":4.0},{\"null\":\"2001-12-31T00:00:00.000Z\",\"CPI\":177.4,\"Unemployment_Rate\":4.7},{\"null\":\"2002-12-31T00:00:00.000Z\",\"CPI\":181.8,\"Unemployment_Rate\":5.8},{\"null\":\"2003-12-31T00:00:00.000Z\",\"CPI\":185.5,\"Unemployment_Rate\":6.0},{\"null\":\"2004-12-31T00:00:00.000Z\",\"CPI\":191.7,\"Unemployment_Rate\":5.5},{\"null\":\"2005-12-31T00:00:00.000Z\",\"CPI\":198.1,\"Unemployment_Rate\":5.1},{\"null\":\"2006-12-31T00:00:00.000Z\",\"CPI\":203.1,\"Unemployment_Rate\":4.6},{\"null\":\"2007-12-31T00:00:00.000Z\",\"CPI\":211.445,\"Unemployment_Rate\":4.6},{\"null\":\"2008-12-31T00:00:00.000Z\",\"CPI\":211.398,\"Unemployment_Rate\":5.8},{\"null\":\"2009-12-31T00:00:00.000Z\",\"CPI\":217.347,\"Unemployment_Rate\":9.3},{\"null\":\"2010-12-31T00:00:00.000Z\",\"CPI\":220.437,\"Unemployment_Rate\":9.6},{\"null\":\"2011-12-31T00:00:00.000Z\",\"CPI\":227.093,\"Unemployment_Rate\":8.9},{\"null\":\"2012-12-31T00:00:00.000Z\",\"CPI\":231.099,\"Unemployment_Rate\":null},{\"null\":\"2013-12-31T00:00:00.000Z\",\"CPI\":234.594,\"Unemployment_Rate\":null},{\"null\":\"2014-12-31T00:00:00.000Z\",\"CPI\":236.149,\"Unemployment_Rate\":null}], [{\"field\": null, \"type\": \"Datetime\"}, {\"field\": \"CPI\", \"type\": \"Float\"}, {\"field\": \"Unemployment_Rate\", \"type\": \"Float\"}]);\n",
       "            grid.initialize_slick_grid({\"fullWidthRows\": true, \"rowHeight\": 28, \"enableColumnReorder\": false, \"enableTextSelectionOnCells\": true, \"syncColumnCellResize\": true, \"forceFitColumns\": true});\n",
       "        });\n",
       "    });\n",
       "});\n"
      ]
     },
     "metadata": {},
     "output_type": "display_data"
    }
   ],
   "source": [
    "q.show_grid(df)"
   ]
  },
  {
   "cell_type": "code",
   "execution_count": 14,
   "metadata": {
    "collapsed": false
   },
   "outputs": [],
   "source": [
    "df = df.dropna()"
   ]
  },
  {
   "cell_type": "markdown",
   "metadata": {},
   "source": [
    "<a id='analyze'></a>  \n",
    "### Analyze Data"
   ]
  },
  {
   "cell_type": "markdown",
   "metadata": {},
   "source": [
    "The Pandas function describe() provides summary statistics for each numeric field in a DataFrame. "
   ]
  },
  {
   "cell_type": "code",
   "execution_count": 15,
   "metadata": {
    "collapsed": false
   },
   "outputs": [
    {
     "data": {
      "text/html": [
       "<script type=\"text/javascript\">\n",
       "if ($(\"#dg-css\").length == 0){\n",
       "    $(\"head\").append([\n",
       "        \"<link href='https://cdn.rawgit.com/quantopian/qgrid/72d356cb123fab413dba73ec46616e4916fbd827/qgrid/qgridjs//lib/slick.grid.css' rel='stylesheet'>\",\n",
       "        \"<link href='https://cdn.rawgit.com/quantopian/qgrid/72d356cb123fab413dba73ec46616e4916fbd827/qgrid/qgridjs//lib/slick-default-theme.css' rel='stylesheet'>\",\n",
       "        \"<link href='http://cdnjs.cloudflare.com/ajax/libs/jqueryui/1.10.4/css/jquery-ui.min.css' rel='stylesheet'>\",\n",
       "        \"<link id='dg-css' href='https://cdn.rawgit.com/quantopian/qgrid/72d356cb123fab413dba73ec46616e4916fbd827/qgrid/qgridjs//qgrid.css' rel='stylesheet'>\"\n",
       "    ]);\n",
       "}\n",
       "</script>\n",
       "<div class='q-grid-container'>\n",
       "<div id='226131c9-a835-4093-8b4c-3339be479874' class='q-grid'></div>\n",
       "</div>"
      ]
     },
     "metadata": {},
     "output_type": "display_data"
    },
    {
     "data": {
      "application/javascript": [
       "var path_dictionary = {\n",
       "    jquery_drag: \"https://cdn.rawgit.com/quantopian/qgrid/72d356cb123fab413dba73ec46616e4916fbd827/qgrid/qgridjs//lib/jquery.event.drag-2.2\",\n",
       "    slick_core: \"https://cdn.rawgit.com/quantopian/qgrid/72d356cb123fab413dba73ec46616e4916fbd827/qgrid/qgridjs//lib/slick.core.2.2\",\n",
       "    slick_data_view: \"https://cdn.rawgit.com/quantopian/qgrid/72d356cb123fab413dba73ec46616e4916fbd827/qgrid/qgridjs//lib/slick.dataview.2.2\",\n",
       "    slick_check_box_column: \"https://cdn.rawgit.com/quantopian/qgrid/72d356cb123fab413dba73ec46616e4916fbd827/qgrid/qgridjs//lib/slick.checkboxselectcolumn\",\n",
       "    slick_row_selection_model: \"https://cdn.rawgit.com/quantopian/qgrid/72d356cb123fab413dba73ec46616e4916fbd827/qgrid/qgridjs//lib/slick.rowselectionmodel\",\n",
       "    slick_grid: \"https://cdn.rawgit.com/quantopian/qgrid/72d356cb123fab413dba73ec46616e4916fbd827/qgrid/qgridjs//lib/slick.grid.2.2\",\n",
       "    data_grid: \"https://cdn.rawgit.com/quantopian/qgrid/72d356cb123fab413dba73ec46616e4916fbd827/qgrid/qgridjs//qgrid\",\n",
       "    date_filter: \"https://cdn.rawgit.com/quantopian/qgrid/72d356cb123fab413dba73ec46616e4916fbd827/qgrid/qgridjs//qgrid.datefilter\",\n",
       "    slider_filter: \"https://cdn.rawgit.com/quantopian/qgrid/72d356cb123fab413dba73ec46616e4916fbd827/qgrid/qgridjs//qgrid.sliderfilter\",\n",
       "    text_filter: \"https://cdn.rawgit.com/quantopian/qgrid/72d356cb123fab413dba73ec46616e4916fbd827/qgrid/qgridjs//qgrid.textfilter\",\n",
       "    filter_base:  \"https://cdn.rawgit.com/quantopian/qgrid/72d356cb123fab413dba73ec46616e4916fbd827/qgrid/qgridjs//qgrid.filterbase\",\n",
       "    handlebars: \"https://cdnjs.cloudflare.com/ajax/libs/handlebars.js/2.0.0/handlebars.min\"\n",
       "};\n",
       "\n",
       "var existing_config = require.s.contexts._.config;\n",
       "if (!existing_config.paths['underscore']){\n",
       "    path_dictionary['underscore'] = \"https://cdnjs.cloudflare.com/ajax/libs/underscore.js/1.7.0/underscore-min\";\n",
       "}\n",
       "\n",
       "if (!existing_config.paths['moment']){\n",
       "    path_dictionary['moment'] = \"https://cdnjs.cloudflare.com/ajax/libs/moment.js/2.8.3/moment.min\";\n",
       "}\n",
       "\n",
       "if (!existing_config.paths['jqueryui']){\n",
       "    path_dictionary['jqueryui'] = \"https://ajax.googleapis.com/ajax/libs/jqueryui/1.11.1/jquery-ui.min\";\n",
       "}\n",
       "\n",
       "require.config({\n",
       "    paths: path_dictionary\n",
       "});\n",
       "\n",
       "if (typeof jQuery === 'function') {\n",
       "    define('jquery', function() { return jQuery; });\n",
       "}\n",
       "\n",
       "require([\n",
       "    'jquery',\n",
       "    'jquery_drag',\n",
       "    'slick_core',\n",
       "    'slick_data_view'\n",
       "],\n",
       "function($){\n",
       "    $('#226131c9-a835-4093-8b4c-3339be479874').closest('.rendered_html').removeClass('rendered_html');\n",
       "    require([\n",
       "      'slick_check_box_column',\n",
       "      'slick_row_selection_model',\n",
       "      'slick_grid'\n",
       "    ], function(){\n",
       "        require([\"data_grid\"], function(dgrid){\n",
       "            var grid = new dgrid.QGrid('#226131c9-a835-4093-8b4c-3339be479874', [{\"null\":\"count\",\"CPI\":64.0,\"Unemployment_Rate\":64.0},{\"null\":\"mean\",\"CPI\":96.4833,\"Unemployment_Rate\":5.7625},{\"null\":\"std\",\"CPI\":67.2738,\"Unemployment_Rate\":1.6263},{\"null\":\"min\",\"CPI\":23.61,\"Unemployment_Rate\":2.9},{\"null\":\"25%\",\"CPI\":31.1575,\"Unemployment_Rate\":4.6},{\"null\":\"50%\",\"CPI\":81.65,\"Unemployment_Rate\":5.55},{\"null\":\"75%\",\"CPI\":155.2,\"Unemployment_Rate\":6.8},{\"null\":\"max\",\"CPI\":227.093,\"Unemployment_Rate\":9.7}], [{\"field\": null}, {\"field\": \"CPI\", \"type\": \"Float\"}, {\"field\": \"Unemployment_Rate\", \"type\": \"Float\"}]);\n",
       "            grid.initialize_slick_grid({\"fullWidthRows\": true, \"rowHeight\": 28, \"enableColumnReorder\": false, \"enableTextSelectionOnCells\": true, \"syncColumnCellResize\": true, \"forceFitColumns\": true});\n",
       "        });\n",
       "    });\n",
       "});\n"
      ]
     },
     "metadata": {},
     "output_type": "display_data"
    }
   ],
   "source": [
    "q.show_grid(df.describe())"
   ]
  },
  {
   "cell_type": "code",
   "execution_count": 16,
   "metadata": {
    "collapsed": false
   },
   "outputs": [
    {
     "data": {
      "text/plain": [
       "<matplotlib.axes._subplots.AxesSubplot at 0x8afd5f0>"
      ]
     },
     "execution_count": 16,
     "metadata": {},
     "output_type": "execute_result"
    },
    {
     "data": {
      "image/png": "[encoded data removed]",
      "text/plain": [
       "<matplotlib.figure.Figure at 0x8817ff0>"
      ]
     },
     "metadata": {},
     "output_type": "display_data"
    }
   ],
   "source": [
    "df.plot(kind='scatter', x='CPI', y='Unemployment_Rate')"
   ]
  },
  {
   "cell_type": "code",
   "execution_count": 17,
   "metadata": {
    "collapsed": false
   },
   "outputs": [
    {
     "data": {
      "text/html": [
       "<div>\n",
       "<table border=\"1\" class=\"dataframe\">\n",
       "  <thead>\n",
       "    <tr style=\"text-align: right;\">\n",
       "      <th></th>\n",
       "      <th>CPI</th>\n",
       "      <th>Unemployment_Rate</th>\n",
       "    </tr>\n",
       "  </thead>\n",
       "  <tbody>\n",
       "    <tr>\n",
       "      <th>CPI</th>\n",
       "      <td>1.000000</td>\n",
       "      <td>0.317526</td>\n",
       "    </tr>\n",
       "    <tr>\n",
       "      <th>Unemployment_Rate</th>\n",
       "      <td>0.317526</td>\n",
       "      <td>1.000000</td>\n",
       "    </tr>\n",
       "  </tbody>\n",
       "</table>\n",
       "</div>"
      ],
      "text/plain": [
       "                        CPI  Unemployment_Rate\n",
       "CPI                1.000000           0.317526\n",
       "Unemployment_Rate  0.317526           1.000000"
      ]
     },
     "execution_count": 17,
     "metadata": {},
     "output_type": "execute_result"
    }
   ],
   "source": [
    "df.corr()"
   ]
  },
  {
   "cell_type": "markdown",
   "metadata": {},
   "source": [
    "As you can see by the scatter plot and the correlation statistics, the correlation between absolute CPI and Umemployment Rate is weak."
   ]
  },
  {
   "cell_type": "markdown",
   "metadata": {},
   "source": [
    "<a id='features'></a>  \n",
    "### Create Model Features"
   ]
  },
  {
   "cell_type": "markdown",
   "metadata": {},
   "source": [
    "Before conducting a regression analysis, we must create features for the model to use. In this example, we will calculate aboslute change in CPI and Unemployment Rate over a 5 year span."
   ]
  },
  {
   "cell_type": "code",
   "execution_count": 18,
   "metadata": {
    "collapsed": false
   },
   "outputs": [],
   "source": [
    "lag_periods = 5\n",
    "df['CPI_Change'] = df.CPI.diff(periods=lag_periods)\n",
    "df['Unemployment_Rate_Change'] = df.Unemployment_Rate.diff(lag_periods)"
   ]
  },
  {
   "cell_type": "code",
   "execution_count": 19,
   "metadata": {
    "collapsed": false
   },
   "outputs": [
    {
     "data": {
      "text/html": [
       "<div>\n",
       "<table border=\"1\" class=\"dataframe\">\n",
       "  <thead>\n",
       "    <tr style=\"text-align: right;\">\n",
       "      <th></th>\n",
       "      <th>CPI</th>\n",
       "      <th>Unemployment_Rate</th>\n",
       "      <th>CPI_Change</th>\n",
       "      <th>Unemployment_Rate_Change</th>\n",
       "      <th>CPI_Pct_Change</th>\n",
       "      <th>Unemployment_Rate_Pct_Change</th>\n",
       "    </tr>\n",
       "  </thead>\n",
       "  <tbody>\n",
       "    <tr>\n",
       "      <th>1953-12-31</th>\n",
       "      <td>26.87</td>\n",
       "      <td>2.9</td>\n",
       "      <td>2.82</td>\n",
       "      <td>-0.9</td>\n",
       "      <td>11.725572</td>\n",
       "      <td>-23.684211</td>\n",
       "    </tr>\n",
       "    <tr>\n",
       "      <th>1954-12-31</th>\n",
       "      <td>26.77</td>\n",
       "      <td>5.5</td>\n",
       "      <td>3.16</td>\n",
       "      <td>-0.4</td>\n",
       "      <td>13.384159</td>\n",
       "      <td>-6.779661</td>\n",
       "    </tr>\n",
       "    <tr>\n",
       "      <th>1955-12-31</th>\n",
       "      <td>26.87</td>\n",
       "      <td>4.4</td>\n",
       "      <td>1.89</td>\n",
       "      <td>-0.9</td>\n",
       "      <td>7.566053</td>\n",
       "      <td>-16.981132</td>\n",
       "    </tr>\n",
       "    <tr>\n",
       "      <th>1956-12-31</th>\n",
       "      <td>27.63</td>\n",
       "      <td>4.1</td>\n",
       "      <td>1.16</td>\n",
       "      <td>0.8</td>\n",
       "      <td>4.382320</td>\n",
       "      <td>24.242424</td>\n",
       "    </tr>\n",
       "    <tr>\n",
       "      <th>1957-12-31</th>\n",
       "      <td>28.47</td>\n",
       "      <td>4.3</td>\n",
       "      <td>1.76</td>\n",
       "      <td>1.3</td>\n",
       "      <td>6.589292</td>\n",
       "      <td>43.333333</td>\n",
       "    </tr>\n",
       "  </tbody>\n",
       "</table>\n",
       "</div>"
      ],
      "text/plain": [
       "              CPI  Unemployment_Rate  CPI_Change  Unemployment_Rate_Change  \\\n",
       "1953-12-31  26.87                2.9        2.82                      -0.9   \n",
       "1954-12-31  26.77                5.5        3.16                      -0.4   \n",
       "1955-12-31  26.87                4.4        1.89                      -0.9   \n",
       "1956-12-31  27.63                4.1        1.16                       0.8   \n",
       "1957-12-31  28.47                4.3        1.76                       1.3   \n",
       "\n",
       "            CPI_Pct_Change  Unemployment_Rate_Pct_Change  \n",
       "1953-12-31       11.725572                    -23.684211  \n",
       "1954-12-31       13.384159                     -6.779661  \n",
       "1955-12-31        7.566053                    -16.981132  \n",
       "1956-12-31        4.382320                     24.242424  \n",
       "1957-12-31        6.589292                     43.333333  "
      ]
     },
     "execution_count": 19,
     "metadata": {},
     "output_type": "execute_result"
    }
   ],
   "source": [
    "df['CPI_Pct_Change'] = df['CPI'].pct_change(periods=lag_periods) * 100\n",
    "df['Unemployment_Rate_Pct_Change'] = df['Unemployment_Rate'].pct_change(periods=lag_periods) * 100\n",
    "df = df.dropna()\n",
    "df.head()"
   ]
  },
  {
   "cell_type": "markdown",
   "metadata": {},
   "source": [
    "The pandas df.corr() funciton displays the correlation between all columns in a given dataframe."
   ]
  },
  {
   "cell_type": "code",
   "execution_count": 20,
   "metadata": {
    "collapsed": false
   },
   "outputs": [
    {
     "data": {
      "text/html": [
       "<div>\n",
       "<table border=\"1\" class=\"dataframe\">\n",
       "  <thead>\n",
       "    <tr style=\"text-align: right;\">\n",
       "      <th></th>\n",
       "      <th>CPI</th>\n",
       "      <th>Unemployment_Rate</th>\n",
       "      <th>CPI_Change</th>\n",
       "      <th>Unemployment_Rate_Change</th>\n",
       "      <th>CPI_Pct_Change</th>\n",
       "      <th>Unemployment_Rate_Pct_Change</th>\n",
       "    </tr>\n",
       "  </thead>\n",
       "  <tbody>\n",
       "    <tr>\n",
       "      <th>CPI</th>\n",
       "      <td>1.000000</td>\n",
       "      <td>0.261343</td>\n",
       "      <td>0.729992</td>\n",
       "      <td>0.042150</td>\n",
       "      <td>-0.086661</td>\n",
       "      <td>0.002670</td>\n",
       "    </tr>\n",
       "    <tr>\n",
       "      <th>Unemployment_Rate</th>\n",
       "      <td>0.261343</td>\n",
       "      <td>1.000000</td>\n",
       "      <td>0.556241</td>\n",
       "      <td>0.675343</td>\n",
       "      <td>0.506592</td>\n",
       "      <td>0.625618</td>\n",
       "    </tr>\n",
       "    <tr>\n",
       "      <th>CPI_Change</th>\n",
       "      <td>0.729992</td>\n",
       "      <td>0.556241</td>\n",
       "      <td>1.000000</td>\n",
       "      <td>0.126013</td>\n",
       "      <td>0.580761</td>\n",
       "      <td>0.042403</td>\n",
       "    </tr>\n",
       "    <tr>\n",
       "      <th>Unemployment_Rate_Change</th>\n",
       "      <td>0.042150</td>\n",
       "      <td>0.675343</td>\n",
       "      <td>0.126013</td>\n",
       "      <td>1.000000</td>\n",
       "      <td>0.213445</td>\n",
       "      <td>0.957519</td>\n",
       "    </tr>\n",
       "    <tr>\n",
       "      <th>CPI_Pct_Change</th>\n",
       "      <td>-0.086661</td>\n",
       "      <td>0.506592</td>\n",
       "      <td>0.580761</td>\n",
       "      <td>0.213445</td>\n",
       "      <td>1.000000</td>\n",
       "      <td>0.139797</td>\n",
       "    </tr>\n",
       "    <tr>\n",
       "      <th>Unemployment_Rate_Pct_Change</th>\n",
       "      <td>0.002670</td>\n",
       "      <td>0.625618</td>\n",
       "      <td>0.042403</td>\n",
       "      <td>0.957519</td>\n",
       "      <td>0.139797</td>\n",
       "      <td>1.000000</td>\n",
       "    </tr>\n",
       "  </tbody>\n",
       "</table>\n",
       "</div>"
      ],
      "text/plain": [
       "                                   CPI  Unemployment_Rate  CPI_Change  \\\n",
       "CPI                           1.000000           0.261343    0.729992   \n",
       "Unemployment_Rate             0.261343           1.000000    0.556241   \n",
       "CPI_Change                    0.729992           0.556241    1.000000   \n",
       "Unemployment_Rate_Change      0.042150           0.675343    0.126013   \n",
       "CPI_Pct_Change               -0.086661           0.506592    0.580761   \n",
       "Unemployment_Rate_Pct_Change  0.002670           0.625618    0.042403   \n",
       "\n",
       "                              Unemployment_Rate_Change  CPI_Pct_Change  \\\n",
       "CPI                                           0.042150       -0.086661   \n",
       "Unemployment_Rate                             0.675343        0.506592   \n",
       "CPI_Change                                    0.126013        0.580761   \n",
       "Unemployment_Rate_Change                      1.000000        0.213445   \n",
       "CPI_Pct_Change                                0.213445        1.000000   \n",
       "Unemployment_Rate_Pct_Change                  0.957519        0.139797   \n",
       "\n",
       "                              Unemployment_Rate_Pct_Change  \n",
       "CPI                                               0.002670  \n",
       "Unemployment_Rate                                 0.625618  \n",
       "CPI_Change                                        0.042403  \n",
       "Unemployment_Rate_Change                          0.957519  \n",
       "CPI_Pct_Change                                    0.139797  \n",
       "Unemployment_Rate_Pct_Change                      1.000000  "
      ]
     },
     "execution_count": 20,
     "metadata": {},
     "output_type": "execute_result"
    }
   ],
   "source": [
    "df.corr()"
   ]
  },
  {
   "cell_type": "code",
   "execution_count": 21,
   "metadata": {
    "collapsed": false
   },
   "outputs": [
    {
     "data": {
      "text/plain": [
       "<matplotlib.axes._subplots.AxesSubplot at 0x8d48110>"
      ]
     },
     "execution_count": 21,
     "metadata": {},
     "output_type": "execute_result"
    },
    {
     "data": {
      "image/png": "[encoded data removed]",
      "text/plain": [
       "<matplotlib.figure.Figure at 0x8aebf70>"
      ]
     },
     "metadata": {},
     "output_type": "display_data"
    }
   ],
   "source": [
    "df.plot(kind='scatter', x='CPI_Pct_Change', y='Unemployment_Rate', title= \"Visualization of Model Features \\n\")"
   ]
  },
  {
   "cell_type": "markdown",
   "metadata": {},
   "source": [
    "After analyzing our model features, the 5 year change in CPI (CPI_Pct_Change) was chosen as the predictive variable for Unemployment Rate. While absolute change in CPI had a stronger correlation, using this variable would cause years in which CPI was larger (2000-2012) to be overemphasized."
   ]
  },
  {
   "cell_type": "markdown",
   "metadata": {},
   "source": [
    "<a id='stats'></a>  \n",
    "### OLS Regression using Stats Models"
   ]
  },
  {
   "cell_type": "markdown",
   "metadata": {},
   "source": [
    "Now that we've chosen our model features, it's time to do a regression. For more information on the code seen below, visit [here](https://github.com/justmarkham/DAT4/blob/master/notebooks/08_linear_regression.ipynb)."
   ]
  },
  {
   "cell_type": "code",
   "execution_count": 22,
   "metadata": {
    "collapsed": false
   },
   "outputs": [
    {
     "data": {
      "text/plain": [
       "Intercept         4.714942\n",
       "CPI_Pct_Change    0.056395\n",
       "dtype: float64"
      ]
     },
     "execution_count": 22,
     "metadata": {},
     "output_type": "execute_result"
    }
   ],
   "source": [
    "# this is the standard import if you're using \"formula notation\" (similar to R)\n",
    "import statsmodels.formula.api as smf\n",
    "import matplotlib.pyplot as plt\n",
    "\n",
    "# create a fitted model in one line\n",
    "lm = smf.ols(formula='Unemployment_Rate ~ CPI_Pct_Change', data=df).fit()\n",
    "\n",
    "# print the coefficients\n",
    "lm.params"
   ]
  },
  {
   "cell_type": "code",
   "execution_count": 23,
   "metadata": {
    "collapsed": false
   },
   "outputs": [
    {
     "data": {
      "text/html": [
       "<div>\n",
       "<table border=\"1\" class=\"dataframe\">\n",
       "  <thead>\n",
       "    <tr style=\"text-align: right;\">\n",
       "      <th></th>\n",
       "      <th>CPI_Pct_Change</th>\n",
       "    </tr>\n",
       "  </thead>\n",
       "  <tbody>\n",
       "    <tr>\n",
       "      <th>0</th>\n",
       "      <td>4.382320</td>\n",
       "    </tr>\n",
       "    <tr>\n",
       "      <th>1</th>\n",
       "      <td>61.130137</td>\n",
       "    </tr>\n",
       "  </tbody>\n",
       "</table>\n",
       "</div>"
      ],
      "text/plain": [
       "   CPI_Pct_Change\n",
       "0        4.382320\n",
       "1       61.130137"
      ]
     },
     "execution_count": 23,
     "metadata": {},
     "output_type": "execute_result"
    }
   ],
   "source": [
    "# create a DataFrame with the minimum and maximum values of CPI Pct Change\n",
    "X_new = pd.DataFrame({'CPI_Pct_Change': [df.CPI_Pct_Change.min(), df.CPI_Pct_Change.max()]})\n",
    "X_new.head()"
   ]
  },
  {
   "cell_type": "code",
   "execution_count": 24,
   "metadata": {
    "collapsed": false
   },
   "outputs": [
    {
     "data": {
      "text/plain": [
       "[<matplotlib.lines.Line2D at 0xacb9810>]"
      ]
     },
     "execution_count": 24,
     "metadata": {},
     "output_type": "execute_result"
    },
    {
     "data": {
      "image/png": "[encoded data removed]",
      "text/plain": [
       "<matplotlib.figure.Figure at 0xacb9790>"
      ]
     },
     "metadata": {},
     "output_type": "display_data"
    }
   ],
   "source": [
    "# make predictions for those x values and store them\n",
    "preds = lm.predict(X_new)\n",
    "preds\n",
    "\n",
    "# first, plot the observed data\n",
    "df.plot(kind='scatter', x='CPI_Pct_Change', y='Unemployment_Rate',\\\n",
    "        title=\"Linear Regression of Unemployment Rate \\n and CPI Five-year Pct Change \\n\")\n",
    "\n",
    "# then, plot the least squares line\n",
    "plt.plot(X_new, preds, c='red', linewidth=2)"
   ]
  },
  {
   "cell_type": "code",
   "execution_count": 25,
   "metadata": {
    "collapsed": false
   },
   "outputs": [
    {
     "data": {
      "text/plain": [
       "0.25663545312870895"
      ]
     },
     "execution_count": 25,
     "metadata": {},
     "output_type": "execute_result"
    }
   ],
   "source": [
    "lm.rsquared"
   ]
  },
  {
   "cell_type": "markdown",
   "metadata": {},
   "source": [
    "That didn't go so well."
   ]
  },
  {
   "cell_type": "markdown",
   "metadata": {},
   "source": [
    "<a id='scikit'></a>  \n",
    "### OLS Regression using Sci Kit Learn"
   ]
  },
  {
   "cell_type": "markdown",
   "metadata": {},
   "source": [
    "Sci-kit learn is one of the most powerful libraries in the Python family. For more information and examples of the various machine learning algorithms you can leverage from Sci-Kit learn, visit [here](http://scikit-learn.org/stable/auto_examples/index.html)."
   ]
  },
  {
   "cell_type": "code",
   "execution_count": 26,
   "metadata": {
    "collapsed": false
   },
   "outputs": [
    {
     "data": {
      "text/plain": [
       "LinearRegression(copy_X=True, fit_intercept=True, normalize=False)"
      ]
     },
     "execution_count": 26,
     "metadata": {},
     "output_type": "execute_result"
    }
   ],
   "source": [
    "# create X and y\n",
    "df = df.dropna()\n",
    "\n",
    "X = df.CPI_Pct_Change\n",
    "y = df.Unemployment_Rate\n",
    "\n",
    "# follow the usual sklearn pattern: import, instantiate, fit\n",
    "from sklearn.linear_model import LinearRegression\n",
    "lm = LinearRegression()\n",
    "lm.fit(X[:,np.newaxis],y)"
   ]
  },
  {
   "cell_type": "code",
   "execution_count": 27,
   "metadata": {
    "collapsed": false
   },
   "outputs": [
    {
     "name": "stdout",
     "output_type": "stream",
     "text": [
      "4.71494215958\n",
      "[ 0.05639542]\n"
     ]
    }
   ],
   "source": [
    "# print intercept and coefficients\n",
    "print lm.intercept_\n",
    "print lm.coef_"
   ]
  },
  {
   "cell_type": "code",
   "execution_count": 28,
   "metadata": {
    "collapsed": false
   },
   "outputs": [
    {
     "data": {
      "text/plain": [
       "0.25663545312870895"
      ]
     },
     "execution_count": 28,
     "metadata": {},
     "output_type": "execute_result"
    }
   ],
   "source": [
    "# calculate the R-squared\n",
    "lm.score(X[:,np.newaxis], y)"
   ]
  },
  {
   "cell_type": "markdown",
   "metadata": {},
   "source": [
    "<a id='conclusion'></a>\n",
    "### Conclusion"
   ]
  },
  {
   "cell_type": "markdown",
   "metadata": {},
   "source": [
    "While unfortunately our model of simple change in inflation rate turned out not to be a great predictor of unemployment rate, I hope you found this to be a useful introduction of Python for Economic Data Analysis! "
   ]
  }
 ],
 "metadata": {
  "celltoolbar": "Raw Cell Format",
  "kernelspec": {
   "display_name": "Python 2",
   "language": "python",
   "name": "python2"
  },
  "language_info": {
   "codemirror_mode": {
    "name": "ipython",
    "version": 2
   },
   "file_extension": ".py",
   "mimetype": "text/x-python",
   "name": "python",
   "nbconvert_exporter": "python",
   "pygments_lexer": "ipython2",
   "version": "2.7.11"
  }
 },
 "nbformat": 4,
 "nbformat_minor": 0
}
